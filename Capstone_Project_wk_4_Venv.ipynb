{
 "cells": [
  {
   "cell_type": "markdown",
   "metadata": {},
   "source": [
    "# Would neighborhood contribute on Airbnb ratings"
   ]
  },
  {
   "cell_type": "markdown",
   "metadata": {},
   "source": [
    "In Hong Kong, Airbnb is getting popular. According to Inside Airbnb, there are over eight thousand listing in business. Accommodates can leave ratings after their stay. New comers on Airbnb should understand the market before their investment on premise. They should aware of the neighborhood around the premise. \n",
    "\n",
    "Report will study the existing listings. Provide recommendation on neighborhood worth for investment. A focus on relationship of neighborhood and ratings. Foursquare API could contribute to the research by its broad database of locations. "
   ]
  },
  {
   "cell_type": "markdown",
   "metadata": {},
   "source": [
    "By using k-means clustering, could group listings into clusters for further study."
   ]
  },
  {
   "cell_type": "markdown",
   "metadata": {},
   "source": [
    "Foursquare API will provide popular venues around each clusters for further study"
   ]
  },
  {
   "cell_type": "code",
   "execution_count": null,
   "metadata": {},
   "outputs": [],
   "source": [
    "import pandas as pd\n",
    "import numpy as np\n",
    "pd.options.display.max_rows = 100\n",
    "pd.options.display.max_columns = 200\n",
    "\n",
    "basePath = r\"E:\\JUPYTER_NOTEBOOK\\week 6 ffinal assignment machine learning of python\\\\\"\n",
    "print(basePath)"
   ]
  },
  {
   "cell_type": "markdown",
   "metadata": {},
   "source": [
    "#### Define Foursquare Credentials and Version"
   ]
  },
  {
   "cell_type": "code",
   "execution_count": null,
   "metadata": {
    "collapsed": false
   },
   "outputs": [],
   "source": [
    "CLIENT_ID = 'xxx' #  Foursquare ID\n",
    "CLIENT_SECRET = 'xxx' #  Foursquare Secret\n",
    "VERSION = '20190401' # Foursquare API version\n",
    "\n",
    "print('Credentails:')\n",
    "print('CLIENT_ID: ' + CLIENT_ID)\n",
    "print('CLIENT_SECRET: ' + CLIENT_SECRET)"
   ]
  },
  {
   "cell_type": "markdown",
   "metadata": {},
   "source": [
    "#### Inside Airbnb data"
   ]
  },
  {
   "cell_type": "code",
   "execution_count": null,
   "metadata": {},
   "outputs": [],
   "source": [
    "# http://data.insideairbnb.com/china/hk/hong-kong/2019-03-11/visualisations/listings.csv\n",
    "df_list = pd.read_csv(r\"E:\\JUPYTER_NOTEBOOK\\week 6 ffinal assignment machine learning of python\\Airbnb\\listings.csv\")\n",
    "print(df_list.shape)\n",
    "df_list.head(1)"
   ]
  },
  {
   "cell_type": "code",
   "execution_count": null,
   "metadata": {},
   "outputs": [],
   "source": [
    "# Drop unnecessary columns\n",
    "df_list = df_list[['id','host_since','host_response_rate','host_acceptance_rate','host_neighbourhood','host_listings_count','host_total_listings_count','street','neighbourhood','neighbourhood_cleansed','smart_location','latitude','longitude','property_type','room_type','accommodates','bathrooms','bedrooms','beds','bed_type','price','security_deposit','cleaning_fee','guests_included','extra_people','minimum_nights','maximum_nights','number_of_reviews','first_review','last_review','review_scores_rating','review_scores_accuracy','review_scores_cleanliness','review_scores_checkin','review_scores_communication','review_scores_location','review_scores_value','reviews_per_month']]"
   ]
  },
  {
   "cell_type": "code",
   "execution_count": null,
   "metadata": {},
   "outputs": [],
   "source": [
    "# Turn text into numbers\n",
    "def cleanMoney(col):\n",
    "    df_list[col].fillna(np.nan,inplace=True)\n",
    "    df_list[col] = df_list[col].str.replace(',', '')\n",
    "    df_list[col] = df_list[col].str.replace('$', '')\n",
    "    df_list[col] = df_list[col].astype(float)\n",
    "    df_list[col].fillna(-1,inplace=True)\n",
    "    df_list[col] = df_list[col].astype(int)\n",
    "    return\n",
    "\n",
    "cleanMoney('price')\n",
    "cleanMoney('security_deposit')\n",
    "cleanMoney('cleaning_fee')\n",
    "cleanMoney('extra_people')"
   ]
  },
  {
   "cell_type": "code",
   "execution_count": null,
   "metadata": {},
   "outputs": [],
   "source": [
    "# Turn text into numbers\n",
    "def floatToInt(col):\n",
    "    df_list[col].fillna(-1,inplace=True)\n",
    "    df_list[col] = df_list[col].astype(int)\n",
    "    return\n",
    "\n",
    "floatToInt('review_scores_rating')\n",
    "floatToInt('review_scores_accuracy')\n",
    "floatToInt('review_scores_cleanliness')\n",
    "floatToInt('review_scores_checkin')\n",
    "floatToInt('review_scores_communication')\n",
    "floatToInt('review_scores_location')\n",
    "floatToInt('review_scores_value')"
   ]
  },
  {
   "cell_type": "code",
   "execution_count": null,
   "metadata": {},
   "outputs": [],
   "source": [
    "# Remove listings without ratings\n",
    "print(df_list.shape)\n",
    "df_list = df_list[df_list['review_scores_rating']>0]\n",
    "print(df_list.shape)"
   ]
  },
  {
   "cell_type": "code",
   "execution_count": null,
   "metadata": {},
   "outputs": [],
   "source": [
    "print(df_list.neighbourhood_cleansed.value_counts(dropna=False))\n",
    "print(\"=======================================================\")\n",
    "print(df_list.groupby('neighbourhood_cleansed')['review_scores_rating'].mean().sort_values())\n",
    "print(\"=======================================================\")\n",
    "print(df_list.groupby('neighbourhood_cleansed')['review_scores_rating'].min().sort_values())"
   ]
  },
  {
   "cell_type": "markdown",
   "metadata": {},
   "source": [
    "===\n",
    "On this example, when there is no correlation between 2 variables (when correlation is 0 or near 0) the color is gray. The darkest red means there is a perfect positive correlation, while the darkest blue means there is a perfect negative correlation."
   ]
  },
  {
   "cell_type": "code",
   "execution_count": null,
   "metadata": {},
   "outputs": [],
   "source": [
    "# Heatmap showing correlation of dependent variables against independent variable (rating)\n",
    "import seaborn as sns\n",
    "import matplotlib.pyplot as plt\n",
    "\n",
    "corr_matrix = df_list.corr()\n",
    "corr_matrix.fillna(0,inplace=True)\n",
    "\n",
    "plt.figure(figsize=(20,20)) \n",
    "\n",
    "\n",
    "sns.heatmap(corr_matrix, annot=True, fmt=\".1f\",annot_kws={'size':11})\n",
    "\n",
    "plt.xlabel('x',fontsize=17)\n",
    "plt.ylabel('y',fontsize=17)\n",
    "\n",
    "plt.show()"
   ]
  },
  {
   "cell_type": "markdown",
   "metadata": {},
   "source": [
    "##### === Location coordinates ==="
   ]
  },
  {
   "cell_type": "markdown",
   "metadata": {},
   "source": [
    "### Cluster Neighborhoods\n",
    "\n",
    "Run k-means to cluster the neighborhood into 16 clusters."
   ]
  },
  {
   "cell_type": "code",
   "execution_count": null,
   "metadata": {},
   "outputs": [],
   "source": [
    "from pandas.io.json import json_normalize\n",
    "from sklearn.cluster import KMeans\n",
    "# set number of clusters \n",
    "kclusters = 16\n",
    "\n",
    "# run k-means clustering\n",
    "kmeans = KMeans(n_clusters=kclusters, random_state=0,max_iter=1200).fit(df_location_lat_lng)"
   ]
  },
  {
   "cell_type": "code",
   "execution_count": null,
   "metadata": {},
   "outputs": [],
   "source": [
    "df_clus_center = pd.DataFrame(data=kmeans.cluster_centers_,columns=['Latitude','Longitude'],index=arr_labels).rename_axis('ClusterLabel').reset_index()\n",
    "print(df_clus_center.shape)\n",
    "df_clus_center"
   ]
  },
  {
   "cell_type": "code",
   "execution_count": null,
   "metadata": {},
   "outputs": [],
   "source": [
    "# create map for cluster center\n",
    "map_clusters = fol.Map(location=[latitude, longitude], zoom_start=11)\n",
    "\n",
    "# set color scheme for the clusters\n",
    "x = np.arange(kclusters)\n",
    "ys = [i + x + (i*x)**2 for i in range(kclusters)]\n",
    "colors_array = cm.rainbow(np.linspace(0, 1, len(ys)))\n",
    "rainbow = [colors.rgb2hex(i) for i in colors_array]\n",
    "\n",
    "# add markers to the map\n",
    "markers_colors = []\n",
    "for lat, lon, cluster in zip(df_a['Latitude'], df_a['Longitude'], df_a['ClusterLabel']):\n",
    "    label = fol.Popup(str(poi) + ' Cluster ' + str(cluster), parse_html=True)\n",
    "    fol.Circle(\n",
    "        [lat, lon],\n",
    "        radius=5,\n",
    "        popup=label,\n",
    "        color=rainbow[cluster-1],\n",
    "        fill=True,\n",
    "        fill_color=rainbow[cluster-1],\n",
    "        fill_opacity=0.7).add_to(map_clusters)\n",
    "    \n",
    "map_clusters"
   ]
  },
  {
   "cell_type": "code",
   "execution_count": null,
   "metadata": {},
   "outputs": [],
   "source": []
  },
  {
   "cell_type": "code",
   "execution_count": null,
   "metadata": {},
   "outputs": [],
   "source": []
  },
  {
   "cell_type": "markdown",
   "metadata": {},
   "source": [
    "#### Display coordinates of 18 clusters onto map"
   ]
  },
  {
   "cell_type": "code",
   "execution_count": null,
   "metadata": {},
   "outputs": [],
   "source": [
    "import folium as fol\n",
    "import matplotlib.cm as cm\n",
    "import matplotlib.colors as colors\n",
    "\n",
    "from geopy.geocoders import Nominatim\n",
    "\n",
    "address = 'Hong Kong, HK'\n",
    "\n",
    "geolocator = Nominatim(user_agent=\"To_explorer\")\n",
    "location = geolocator.geocode(address)\n",
    "latitude = location.latitude\n",
    "longitude = location.longitude\n",
    "print('The geograpical coordinate of HK are {}, {}.'.format(latitude, longitude))"
   ]
  },
  {
   "cell_type": "code",
   "execution_count": null,
   "metadata": {},
   "outputs": [],
   "source": [
    "# create map\n",
    "map_clusters = fol.Map(location=[latitude, longitude], zoom_start=11)\n",
    "\n",
    "# set color scheme for the clusters\n",
    "x = np.arange(kclusters)\n",
    "ys = [i + x + (i*x)**2 for i in range(kclusters)]\n",
    "colors_array = cm.rainbow(np.linspace(0, 1, len(ys)))\n",
    "rainbow = [colors.rgb2hex(i) for i in colors_array]\n",
    "\n",
    "# add markers to the map\n",
    "markers_colors = []\n",
    "for lat, lon, poi, cluster in zip(df_a['latitude'], df_a['longitude'], df_a['neighbourhood_cleansed'], df_a['Cluster Labels']):\n",
    "    label = fol.Popup(str(poi) + ' Cluster ' + str(cluster), parse_html=True)\n",
    "    fol.Circle(\n",
    "        [lat, lon],\n",
    "        radius=5,\n",
    "        popup=label,\n",
    "        color=rainbow[cluster-1],\n",
    "        fill=True,\n",
    "        fill_color=rainbow[cluster-1],\n",
    "        fill_opacity=0.7).add_to(map_clusters)\n",
    "    \n",
    "map_clusters"
   ]
  },
  {
   "cell_type": "markdown",
   "metadata": {},
   "source": [
    "## Get Foursqure popular places of each cluster"
   ]
  },
  {
   "cell_type": "code",
   "execution_count": null,
   "metadata": {
    "collapsed": true
   },
   "outputs": [],
   "source": [
    "import requests\n",
    "\n",
    "def getNearbyVenues(names, latitudes, longitudes, radius=2000, LIMIT=1000):\n",
    "    \n",
    "    venues_list=[]\n",
    "    for name, lat, lng in zip(names, latitudes, longitudes):\n",
    "        print(name)\n",
    "            \n",
    "        # create the API request URL\n",
    "        url = 'https://api.foursquare.com/v2/venues/explore?&client_id={}&client_secret={}&v={}&ll={},{}&radius={}&limit={}'.format(\n",
    "            CLIENT_ID, \n",
    "            CLIENT_SECRET, \n",
    "            VERSION, \n",
    "            lat, \n",
    "            lng, \n",
    "            radius, \n",
    "            LIMIT)\n",
    "            \n",
    "        # make the GET request\n",
    "        results = requests.get(url).json()[\"response\"]['groups'][0]['items']\n",
    "        \n",
    "        # return only relevant information for each nearby venue\n",
    "        venues_list.append([(\n",
    "            name, \n",
    "            lat, \n",
    "            lng, \n",
    "            v['venue']['name'], \n",
    "            v['venue']['location']['lat'], \n",
    "            v['venue']['location']['lng'],  \n",
    "            v['venue']['categories'][0]['name']) for v in results])\n",
    "\n",
    "    nearby_venues = pd.DataFrame([item for venue_list in venues_list for item in venue_list])\n",
    "    nearby_venues.columns = ['Neighborhood', \n",
    "                  'Neighborhood Latitude', \n",
    "                  'Neighborhood Longitude', \n",
    "                  'Venue', \n",
    "                  'Venue Latitude', \n",
    "                  'Venue Longitude', \n",
    "                  'Venue Category']\n",
    "    \n",
    "    return(nearby_venues)"
   ]
  },
  {
   "cell_type": "code",
   "execution_count": null,
   "metadata": {
    "collapsed": false,
    "scrolled": true
   },
   "outputs": [],
   "source": [
    "hk_venues = getNearbyVenues(names=df_clus_center['ClusterLabel'],\n",
    "                                   latitudes=df_clus_center['Latitude'],\n",
    "                                   longitudes=df_clus_center['Longitude']\n",
    "                                  )"
   ]
  },
  {
   "cell_type": "code",
   "execution_count": null,
   "metadata": {},
   "outputs": [],
   "source": [
    "# create map\n",
    "map_clusters = fol.Map(location=[latitude, longitude], zoom_start=11)\n",
    "\n",
    "# set color scheme for the clusters\n",
    "x = np.arange(kclusters)\n",
    "ys = [i + x + (i*x)**2 for i in range(kclusters)]\n",
    "colors_array = cm.rainbow(np.linspace(0, 1, len(ys)))\n",
    "rainbow = [colors.rgb2hex(i) for i in colors_array]\n",
    "\n",
    "# add markers to the map\n",
    "markers_colors = []\n",
    "for lat, lon, poi, cluster in zip(hk_venues['Venue Latitude'], hk_venues['Venue Longitude'], hk_venues['Venue'], hk_venues['Neighborhood']):\n",
    "    label = fol.Popup(str(poi) + ' Cluster ' + str(cluster), parse_html=True)\n",
    "    fol.Circle(\n",
    "        [lat, lon],\n",
    "        radius=5,\n",
    "        popup=label,\n",
    "        color=rainbow[cluster-1],\n",
    "        fill=True,\n",
    "        fill_color=rainbow[cluster-1],\n",
    "        fill_opacity=0.7).add_to(map_clusters)\n",
    "    \n",
    "map_clusters"
   ]
  },
  {
   "cell_type": "code",
   "execution_count": null,
   "metadata": {},
   "outputs": [],
   "source": [
    "print('There are {} uniques categories.'.format(len(hk_venues['Venue Category'].unique())))"
   ]
  }
 ],
 "metadata": {
  "kernelspec": {
   "display_name": "VENV_Capstone",
   "language": "python",
   "name": "venv_capstone"
  },
  "language_info": {
   "codemirror_mode": {
    "name": "ipython",
    "version": 3
   },
   "file_extension": ".py",
   "mimetype": "text/x-python",
   "name": "python",
   "nbconvert_exporter": "python",
   "pygments_lexer": "ipython3",
   "version": "3.7.3"
  }
 },
 "nbformat": 4,
 "nbformat_minor": 2
}
